{
 "cells": [
  {
   "cell_type": "markdown",
   "metadata": {},
   "source": [
    "# Dataset conll04\n",
    "\n",
    "This dataset is constructed from news articles and has "
   ]
  },
  {
   "cell_type": "code",
   "execution_count": 10,
   "metadata": {},
   "outputs": [],
   "source": [
    "import sys\n",
    "sys.path.insert(0,'..')\n",
    "import json\n",
    "from abc import abstractmethod, ABC\n",
    "from collections import OrderedDict\n",
    "from logging import Logger\n",
    "from typing import List\n",
    "from tqdm import tqdm\n",
    "from transformers import BertTokenizer\n",
    "\n",
    "from spert import util\n",
    "from spert.entities import Dataset, EntityType, RelationType, Entity, Relation, Document\n",
    "from spert.opt import spacy\n",
    "import pandas as pd\n",
    "\n",
    "import matplotlib.pyplot as plt\n",
    "import seaborn as sns\n"
   ]
  },
  {
   "cell_type": "markdown",
   "metadata": {},
   "source": [
    "## Entities and Relation Types\n",
    "Both types are in file `conll04_types.json` and can be extracted as follows: "
   ]
  },
  {
   "cell_type": "code",
   "execution_count": 21,
   "metadata": {},
   "outputs": [
    {
     "data": {
      "text/html": [
       "<div>\n",
       "<style scoped>\n",
       "    .dataframe tbody tr th:only-of-type {\n",
       "        vertical-align: middle;\n",
       "    }\n",
       "\n",
       "    .dataframe tbody tr th {\n",
       "        vertical-align: top;\n",
       "    }\n",
       "\n",
       "    .dataframe thead th {\n",
       "        text-align: right;\n",
       "    }\n",
       "</style>\n",
       "<table border=\"1\" class=\"dataframe\">\n",
       "  <thead>\n",
       "    <tr style=\"text-align: right;\">\n",
       "      <th></th>\n",
       "      <th>short</th>\n",
       "      <th>verbose</th>\n",
       "      <th>symmetric</th>\n",
       "    </tr>\n",
       "  </thead>\n",
       "  <tbody>\n",
       "    <tr>\n",
       "      <th>Work_For</th>\n",
       "      <td>Work</td>\n",
       "      <td>Work for</td>\n",
       "      <td>False</td>\n",
       "    </tr>\n",
       "    <tr>\n",
       "      <th>Kill</th>\n",
       "      <td>Kill</td>\n",
       "      <td>Kill</td>\n",
       "      <td>False</td>\n",
       "    </tr>\n",
       "    <tr>\n",
       "      <th>OrgBased_In</th>\n",
       "      <td>OrgBI</td>\n",
       "      <td>Organization based in</td>\n",
       "      <td>False</td>\n",
       "    </tr>\n",
       "    <tr>\n",
       "      <th>Live_In</th>\n",
       "      <td>Live</td>\n",
       "      <td>Live in</td>\n",
       "      <td>False</td>\n",
       "    </tr>\n",
       "    <tr>\n",
       "      <th>Located_In</th>\n",
       "      <td>LocIn</td>\n",
       "      <td>Located in</td>\n",
       "      <td>False</td>\n",
       "    </tr>\n",
       "  </tbody>\n",
       "</table>\n",
       "</div>"
      ],
      "text/plain": [
       "             short                verbose symmetric\n",
       "Work_For      Work               Work for     False\n",
       "Kill          Kill                   Kill     False\n",
       "OrgBased_In  OrgBI  Organization based in     False\n",
       "Live_In       Live                Live in     False\n",
       "Located_In   LocIn             Located in     False"
      ]
     },
     "execution_count": 21,
     "metadata": {},
     "output_type": "execute_result"
    }
   ],
   "source": [
    "\n",
    "types_path = \"../data/datasets/conll04/conll04_types.json\"\n",
    "\n",
    "types = json.load(open(types_path), object_pairs_hook=OrderedDict)\n",
    "entity_types = pd.DataFrame(types['entities']).transpose()\n",
    "relation_types = pd.DataFrame(types['relations']).transpose()\n",
    "\n",
    "relation_types"
   ]
  },
  {
   "cell_type": "code",
   "execution_count": 3,
   "metadata": {},
   "outputs": [
    {
     "data": {
      "text/html": [
       "<div>\n",
       "<style scoped>\n",
       "    .dataframe tbody tr th:only-of-type {\n",
       "        vertical-align: middle;\n",
       "    }\n",
       "\n",
       "    .dataframe tbody tr th {\n",
       "        vertical-align: top;\n",
       "    }\n",
       "\n",
       "    .dataframe thead th {\n",
       "        text-align: right;\n",
       "    }\n",
       "</style>\n",
       "<table border=\"1\" class=\"dataframe\">\n",
       "  <thead>\n",
       "    <tr style=\"text-align: right;\">\n",
       "      <th></th>\n",
       "      <th>short</th>\n",
       "      <th>verbose</th>\n",
       "    </tr>\n",
       "  </thead>\n",
       "  <tbody>\n",
       "    <tr>\n",
       "      <th>Loc</th>\n",
       "      <td>Loc</td>\n",
       "      <td>Location</td>\n",
       "    </tr>\n",
       "    <tr>\n",
       "      <th>Org</th>\n",
       "      <td>Org</td>\n",
       "      <td>Organization</td>\n",
       "    </tr>\n",
       "    <tr>\n",
       "      <th>Peop</th>\n",
       "      <td>Peop</td>\n",
       "      <td>People</td>\n",
       "    </tr>\n",
       "    <tr>\n",
       "      <th>Other</th>\n",
       "      <td>Other</td>\n",
       "      <td>Other</td>\n",
       "    </tr>\n",
       "  </tbody>\n",
       "</table>\n",
       "</div>"
      ],
      "text/plain": [
       "       short       verbose\n",
       "Loc      Loc      Location\n",
       "Org      Org  Organization\n",
       "Peop    Peop        People\n",
       "Other  Other         Other"
      ]
     },
     "execution_count": 3,
     "metadata": {},
     "output_type": "execute_result"
    }
   ],
   "source": [
    "entity_types"
   ]
  },
  {
   "cell_type": "markdown",
   "metadata": {},
   "source": [
    "## Data Splits\n",
    "\n",
    "The data are pre-split into train, train-dev, "
   ]
  },
  {
   "cell_type": "code",
   "execution_count": 47,
   "metadata": {},
   "outputs": [
    {
     "data": {
      "text/plain": [
       "dict_keys(['train', 'dev', 'test'])"
      ]
     },
     "execution_count": 47,
     "metadata": {},
     "output_type": "execute_result"
    }
   ],
   "source": [
    "paths = [\"../data/datasets/conll04/conll04_train.json\",\n",
    "         #\"../data/datasets/conll04/conll04_train_dev.json\",\n",
    "         \"../data/datasets/conll04/conll04_dev.json\",\n",
    "         \"../data/datasets/conll04/conll04_test.json\"]\n",
    "#labels = [\"train\",\"train_dev\",\"dev\",\"test\"]\n",
    "labels = [\"train\",\"dev\",\"test\"]\n",
    "data_splits = {}\n",
    "for pth, label in zip(paths,labels):\n",
    "    data_splits[label] = json.load(open(pth), object_pairs_hook=OrderedDict)\n",
    "data_splits.keys()\n"
   ]
  },
  {
   "cell_type": "code",
   "execution_count": 48,
   "metadata": {},
   "outputs": [
    {
     "name": "stdout",
     "output_type": "stream",
     "text": [
      "Each example contains: odict_keys(['tokens', 'entities', 'relations', 'orig_id'])\n",
      "Tokens: ['The', 'DEM', 'outlawed', 'plastic', 'ducks', 'in', 'Rhode', 'Island', 'waterways', 'after', 'a', 'race', 'in', 'Warwick', 'sent', '7', ',', '000', 'toy', 'ducks', 'floating', 'down', 'the', 'Pawtuxet', 'River.']\n",
      "\n",
      "Entities:\n",
      "  type  start  end\n",
      "0  Loc      6    8\n",
      "1  Loc     13   14\n",
      "2  Loc     23   25\n",
      "\n",
      "Relations:\n",
      "[OrderedDict([('type', 'Located_In'), ('head', 1), ('tail', 0)]), OrderedDict([('type', 'Located_In'), ('head', 2), ('tail', 0)]), OrderedDict([('type', 'Located_In'), ('head', 2), ('tail', 1)])]\n",
      "\n",
      "original id: 1996\n"
     ]
    }
   ],
   "source": [
    "ex1 = data_splits['test'][100]\n",
    "print(\"Each example contains:\",ex1.keys())\n",
    "print('Tokens:', ex1['tokens'])\n",
    "print()\n",
    "print('Entities:')\n",
    "print(pd.DataFrame(ex1['entities']))\n",
    "print()\n",
    "print('Relations:')\n",
    "print(ex1['relations'])\n",
    "print()\n",
    "print('original id:', ex1['orig_id'])\n",
    "\n"
   ]
  },
  {
   "cell_type": "markdown",
   "metadata": {},
   "source": [
    "The train-dev set is the union of train and dev as shown below:"
   ]
  },
  {
   "cell_type": "code",
   "execution_count": 49,
   "metadata": {},
   "outputs": [
    {
     "data": {
      "text/plain": [
       "['train has 922 examples', 'dev has 231 examples', 'test has 288 examples']"
      ]
     },
     "execution_count": 49,
     "metadata": {},
     "output_type": "execute_result"
    }
   ],
   "source": [
    "[ \"%s has %i examples\"%(l,len(s)) for l,s in data_splits.items()]"
   ]
  },
  {
   "cell_type": "markdown",
   "metadata": {},
   "source": [
    "The size  of each train-dev example measured as token count:\n",
    " "
   ]
  },
  {
   "cell_type": "code",
   "execution_count": 50,
   "metadata": {},
   "outputs": [
    {
     "data": {
      "image/png": "[encoded data removed]",
      "text/plain": [
       "<Figure size 432x288 with 1 Axes>"
      ]
     },
     "metadata": {
      "needs_background": "light"
     },
     "output_type": "display_data"
    }
   ],
   "source": [
    "sizes = [len(ex['tokens']) for  ex in data_splits['train']+data_splits['dev'] ]\n",
    "plot_bins = plt.hist(sizes, bins=50)\n",
    "#plot_bins"
   ]
  },
  {
   "cell_type": "code",
   "execution_count": 51,
   "metadata": {},
   "outputs": [
    {
     "name": "stdout",
     "output_type": "stream",
     "text": [
      "\n",
      "Split train\n",
      "entity type Other has 455 mentions\n",
      "entity type Org has 616 mentions\n",
      "entity type Loc has 1219 mentions\n",
      "entity type Peop has 1087 mentions\n",
      "\n",
      "Split dev\n",
      "entity type Other has 118 mentions\n",
      "entity type Org has 170 mentions\n",
      "entity type Peop has 283 mentions\n",
      "entity type Loc has 322 mentions\n",
      "\n",
      "Split test\n",
      "entity type Other has 133 mentions\n",
      "entity type Org has 198 mentions\n",
      "entity type Peop has 321 mentions\n",
      "entity type Loc has 427 mentions\n"
     ]
    }
   ],
   "source": [
    "for split in data_splits:\n",
    "    print()\n",
    "    print('Split',split)\n",
    "    mentions = [ en['type'] for ex in data_splits[split] for en in ex['entities']]\n",
    "    etypes = set(mentions)\n",
    "    for et in etypes:\n",
    "        print('entity type %s has %d mentions'%(et, sum([1 for m in mentions if m == et])))\n"
   ]
  },
  {
   "cell_type": "markdown",
   "metadata": {},
   "source": [
    "# The ADE Corpus\n",
    "\n",
    "The ADE corpus was created by Gurulingappa, Harsha et al. described in their paper “Development of a benchmark corpus to support the automatic extraction of drug-related adverse effects from medical case reports.” published in the Journal of biomedical informatics vol. 45,5 (2012): 885-92. doi:10.1016/j.jbi.2012.04.008.\n",
    "\n",
    "It is divided into three parts: \n",
    "\n",
    "1.  DRUG-AE.rel provides relations between drugs and adverse effects, \n",
    "1.  DRUG-DOSE.rel provides relations between drugs and dosages and \n",
    "1.  ADE-NEG.txt provides all sentences in the ADE corpus that DO NOT contain any drug-related adverse effects.\n",
    "\n",
    "The datasets are in English language text format.\n",
    "The dataset used here is divided into 10 training and 10 test folds "
   ]
  },
  {
   "cell_type": "code",
   "execution_count": 52,
   "metadata": {},
   "outputs": [
    {
     "data": {
      "text/plain": [
       "OrderedDict([('entities',\n",
       "              OrderedDict([('Adverse-Effect',\n",
       "                            OrderedDict([('short', 'AE'),\n",
       "                                         ('verbose', 'Adverse-Effect')])),\n",
       "                           ('Drug',\n",
       "                            OrderedDict([('short', 'Drug'),\n",
       "                                         ('verbose', 'Drug')]))])),\n",
       "             ('relations',\n",
       "              OrderedDict([('Adverse-Effect',\n",
       "                            OrderedDict([('short', 'AE'),\n",
       "                                         ('verbose', 'Adverse-Effect'),\n",
       "                                         ('symmetric', False)]))]))])"
      ]
     },
     "execution_count": 52,
     "metadata": {},
     "output_type": "execute_result"
    }
   ],
   "source": [
    "ada_train_paths = [\"../data/datasets/ade/ade_split_%i_train.json\"%i for i in range(9)]\n",
    "ada_test_paths = [\"../data/datasets/ade/ade_split_%i_test.json\"%i for i in range(9)]\n",
    "ada_types_path = \"../data/datasets/ade/ade_types.json\"\n",
    "ada_types = json.load(open(ada_types_path), object_pairs_hook=OrderedDict)\n",
    "\n",
    "ada_types\n"
   ]
  },
  {
   "cell_type": "code",
   "execution_count": 53,
   "metadata": {},
   "outputs": [],
   "source": [
    "ada_train_folds = [ \n",
    "    json.load(open(path))\n",
    "    for path in ada_train_paths\n",
    "]"
   ]
  },
  {
   "cell_type": "markdown",
   "metadata": {},
   "source": [
    "The 10 folds have the same number of examples"
   ]
  },
  {
   "cell_type": "code",
   "execution_count": 54,
   "metadata": {},
   "outputs": [
    {
     "data": {
      "text/plain": [
       "[3845, 3845, 3845, 3845, 3845, 3845, 3845, 3845, 3845]"
      ]
     },
     "execution_count": 54,
     "metadata": {},
     "output_type": "execute_result"
    }
   ],
   "source": [
    "[len(fold) for fold in ada_train_folds]"
   ]
  },
  {
   "cell_type": "markdown",
   "metadata": {},
   "source": [
    "Let's look at the 100th example from fold 7"
   ]
  },
  {
   "cell_type": "code",
   "execution_count": 55,
   "metadata": {},
   "outputs": [
    {
     "name": "stdout",
     "output_type": "stream",
     "text": [
      "Tokens: ['A', '67-year', '-', 'old', 'man', 'developed', 'diarrhea', 'shortly', 'after', 'a', '10-day', 'course', 'of', 'oral', 'ampicillin', '.']\n",
      "Entities: [{'type': 'Adverse-Effect', 'start': 6, 'end': 7}, {'type': 'Drug', 'start': 14, 'end': 15}]\n",
      "Relations [{'type': 'Adverse-Effect', 'head': 0, 'tail': 1}]\n",
      "orig_id: 3307\n"
     ]
    }
   ],
   "source": [
    "ex=ada_train_folds[7][100]\n",
    "print('Tokens:',ex['tokens'])\n",
    "print('Entities:', ex['entities'])\n",
    "print('Relations',ex['relations'])\n",
    "print('orig_id:',ex['orig_id'])"
   ]
  },
  {
   "cell_type": "markdown",
   "metadata": {},
   "source": [
    "The length distribution in tokens across all combined training examples:"
   ]
  },
  {
   "cell_type": "code",
   "execution_count": 56,
   "metadata": {},
   "outputs": [
    {
     "data": {
      "image/png": "[encoded data removed]",
      "text/plain": [
       "<Figure size 432x288 with 1 Axes>"
      ]
     },
     "metadata": {
      "needs_background": "light"
     },
     "output_type": "display_data"
    }
   ],
   "source": [
    "sizes = [len(ex['tokens']) for fold in ada_train_folds for  ex in fold ]\n",
    "plot_bins = plt.hist(sizes, bins=50)\n",
    "#plot_bins"
   ]
  },
  {
   "cell_type": "code",
   "execution_count": 57,
   "metadata": {},
   "outputs": [],
   "source": [
    "\n",
    "sci_types_path = \"../data/datasets/scierc/scierc_types.json\"\n",
    "\n",
    "sci_types = json.load(open(sci_types_path), object_pairs_hook=OrderedDict)\n",
    "sci_entity_types = pd.DataFrame(sci_types['entities']).transpose()\n",
    "sci_relation_types = pd.DataFrame(sci_types['relations']).transpose()\n"
   ]
  },
  {
   "cell_type": "markdown",
   "metadata": {},
   "source": [
    "# The sciERC Corpus\n",
    "\n",
    "The sciERC corpus  consists of text extracted from 500 AI abstracts. The dataset includes six entity types and seven relationship types shown below, and it includes 2687 sentences split into 1861 for traing, 275 for development evaluation and 551 for testing.\n",
    "\n",
    "It was developed by Yi Luan, Luheng He, Mari Ostendorf, and Hannaneh Hajishirzi (2018) in association with their paper: ``Multi-Task Identification of Entities, Relations, and Coreference for Scientific Knowledge Graph Construction\""
   ]
  },
  {
   "cell_type": "code",
   "execution_count": 58,
   "metadata": {},
   "outputs": [
    {
     "data": {
      "text/html": [
       "<div>\n",
       "<style scoped>\n",
       "    .dataframe tbody tr th:only-of-type {\n",
       "        vertical-align: middle;\n",
       "    }\n",
       "\n",
       "    .dataframe tbody tr th {\n",
       "        vertical-align: top;\n",
       "    }\n",
       "\n",
       "    .dataframe thead th {\n",
       "        text-align: right;\n",
       "    }\n",
       "</style>\n",
       "<table border=\"1\" class=\"dataframe\">\n",
       "  <thead>\n",
       "    <tr style=\"text-align: right;\">\n",
       "      <th></th>\n",
       "      <th>short</th>\n",
       "      <th>verbose</th>\n",
       "    </tr>\n",
       "  </thead>\n",
       "  <tbody>\n",
       "    <tr>\n",
       "      <th>Task</th>\n",
       "      <td>Task</td>\n",
       "      <td>Task</td>\n",
       "    </tr>\n",
       "    <tr>\n",
       "      <th>Method</th>\n",
       "      <td>Method</td>\n",
       "      <td>Method</td>\n",
       "    </tr>\n",
       "    <tr>\n",
       "      <th>Material</th>\n",
       "      <td>Material</td>\n",
       "      <td>Material</td>\n",
       "    </tr>\n",
       "    <tr>\n",
       "      <th>OtherScientificTerm</th>\n",
       "      <td>OST</td>\n",
       "      <td>Other Scientific Term</td>\n",
       "    </tr>\n",
       "    <tr>\n",
       "      <th>Metric</th>\n",
       "      <td>Metric</td>\n",
       "      <td>Metric</td>\n",
       "    </tr>\n",
       "    <tr>\n",
       "      <th>Generic</th>\n",
       "      <td>Generic</td>\n",
       "      <td>Generic</td>\n",
       "    </tr>\n",
       "  </tbody>\n",
       "</table>\n",
       "</div>"
      ],
      "text/plain": [
       "                        short                verbose\n",
       "Task                     Task                   Task\n",
       "Method                 Method                 Method\n",
       "Material             Material               Material\n",
       "OtherScientificTerm       OST  Other Scientific Term\n",
       "Metric                 Metric                 Metric\n",
       "Generic               Generic                Generic"
      ]
     },
     "execution_count": 58,
     "metadata": {},
     "output_type": "execute_result"
    }
   ],
   "source": [
    "\n",
    "sci_entity_types"
   ]
  },
  {
   "cell_type": "code",
   "execution_count": 59,
   "metadata": {},
   "outputs": [
    {
     "data": {
      "text/html": [
       "<div>\n",
       "<style scoped>\n",
       "    .dataframe tbody tr th:only-of-type {\n",
       "        vertical-align: middle;\n",
       "    }\n",
       "\n",
       "    .dataframe tbody tr th {\n",
       "        vertical-align: top;\n",
       "    }\n",
       "\n",
       "    .dataframe thead th {\n",
       "        text-align: right;\n",
       "    }\n",
       "</style>\n",
       "<table border=\"1\" class=\"dataframe\">\n",
       "  <thead>\n",
       "    <tr style=\"text-align: right;\">\n",
       "      <th></th>\n",
       "      <th>short</th>\n",
       "      <th>verbose</th>\n",
       "      <th>symmetric</th>\n",
       "    </tr>\n",
       "  </thead>\n",
       "  <tbody>\n",
       "    <tr>\n",
       "      <th>Used-for</th>\n",
       "      <td>Used-for</td>\n",
       "      <td>Used-for</td>\n",
       "      <td>False</td>\n",
       "    </tr>\n",
       "    <tr>\n",
       "      <th>Feature-of</th>\n",
       "      <td>Feature-of</td>\n",
       "      <td>Feature-of</td>\n",
       "      <td>False</td>\n",
       "    </tr>\n",
       "    <tr>\n",
       "      <th>Hyponym-of</th>\n",
       "      <td>Hyponym-of</td>\n",
       "      <td>Hyponym-of</td>\n",
       "      <td>False</td>\n",
       "    </tr>\n",
       "    <tr>\n",
       "      <th>Evaluate-for</th>\n",
       "      <td>Evaluate-for</td>\n",
       "      <td>Evaluate-for</td>\n",
       "      <td>False</td>\n",
       "    </tr>\n",
       "    <tr>\n",
       "      <th>Part-of</th>\n",
       "      <td>Part-of</td>\n",
       "      <td>Part-of</td>\n",
       "      <td>False</td>\n",
       "    </tr>\n",
       "    <tr>\n",
       "      <th>Compare</th>\n",
       "      <td>Compare</td>\n",
       "      <td>Compare</td>\n",
       "      <td>True</td>\n",
       "    </tr>\n",
       "    <tr>\n",
       "      <th>Conjunction</th>\n",
       "      <td>Conjunction</td>\n",
       "      <td>Conjunction</td>\n",
       "      <td>True</td>\n",
       "    </tr>\n",
       "  </tbody>\n",
       "</table>\n",
       "</div>"
      ],
      "text/plain": [
       "                     short       verbose symmetric\n",
       "Used-for          Used-for      Used-for     False\n",
       "Feature-of      Feature-of    Feature-of     False\n",
       "Hyponym-of      Hyponym-of    Hyponym-of     False\n",
       "Evaluate-for  Evaluate-for  Evaluate-for     False\n",
       "Part-of            Part-of       Part-of     False\n",
       "Compare            Compare       Compare      True\n",
       "Conjunction    Conjunction   Conjunction      True"
      ]
     },
     "execution_count": 59,
     "metadata": {},
     "output_type": "execute_result"
    }
   ],
   "source": [
    "sci_relation_types"
   ]
  },
  {
   "cell_type": "code",
   "execution_count": 60,
   "metadata": {},
   "outputs": [
    {
     "data": {
      "text/plain": [
       "dict_keys(['train', 'dev', 'test'])"
      ]
     },
     "execution_count": 60,
     "metadata": {},
     "output_type": "execute_result"
    }
   ],
   "source": [
    "paths = [\"../data/datasets/scierc/scierc_train.json\",\n",
    "         \"../data/datasets/scierc/scierc_dev.json\",\n",
    "         \"../data/datasets/scierc/scierc_test.json\"]\n",
    "labels = [\"train\",\"dev\",\"test\"]\n",
    "data_splits = {}\n",
    "for pth, label in zip(paths,labels):\n",
    "    data_splits[label] = json.load(open(pth), object_pairs_hook=OrderedDict)\n",
    "data_splits.keys()\n"
   ]
  },
  {
   "cell_type": "code",
   "execution_count": 61,
   "metadata": {},
   "outputs": [
    {
     "name": "stdout",
     "output_type": "stream",
     "text": [
      "Each example contains: odict_keys(['tokens', 'entities', 'relations', 'orig_id'])\n",
      "Tokens: ['We', 'have', 'recently', 'shown', 'that', 'the', 'fusion', 'of', 'measurement', 'information', 'with', 'system', 'dynamics', 'and', 'shape', 'priors', 'greatly', 'improves', 'the', 'tracking', 'performance', 'for', 'very', 'noisy', 'images', 'such', 'as', 'ultrasound', 'sequences', '[', '22', ']', '.']\n",
      "\n",
      "Entities:\n",
      "       type  start  end\n",
      "0    Method      6   16\n",
      "1      Task     19   20\n",
      "2  Material     23   25\n",
      "3  Material     27   29\n",
      "\n",
      "Relations:\n",
      "[OrderedDict([('type', 'Used-for'), ('head', 0), ('tail', 1)]), OrderedDict([('type', 'Used-for'), ('head', 1), ('tail', 2)]), OrderedDict([('type', 'Hyponym-of'), ('head', 3), ('tail', 2)])]\n",
      "\n",
      "original id: c74808ce-f66b-457b-b94c-e5066fb571c9\n"
     ]
    }
   ],
   "source": [
    "ex1 = data_splits['train'][105]\n",
    "print(\"Each example contains:\",ex1.keys())\n",
    "print('Tokens:', ex1['tokens'])\n",
    "print()\n",
    "print('Entities:')\n",
    "print(pd.DataFrame(ex1['entities']))\n",
    "print()\n",
    "print('Relations:')\n",
    "print(ex1['relations'])\n",
    "print()\n",
    "print('original id:', ex1['orig_id'])\n",
    "\n"
   ]
  },
  {
   "cell_type": "code",
   "execution_count": 62,
   "metadata": {},
   "outputs": [
    {
     "data": {
      "image/png": "[encoded data removed]",
      "text/plain": [
       "<Figure size 432x288 with 1 Axes>"
      ]
     },
     "metadata": {
      "needs_background": "light"
     },
     "output_type": "display_data"
    }
   ],
   "source": [
    "sizes = [len(ex['tokens']) for  ex in data_splits['train']+data_splits['dev'] ]\n",
    "plot_bins = plt.hist(sizes, bins=50)\n",
    "#plot_bins"
   ]
  },
  {
   "cell_type": "code",
   "execution_count": null,
   "metadata": {},
   "outputs": [],
   "source": []
  },
  {
   "cell_type": "code",
   "execution_count": null,
   "metadata": {},
   "outputs": [],
   "source": []
  }
 ],
 "metadata": {
  "interpreter": {
   "hash": "07e16bd5aae80a5a2fd0a0d3b13861e825cae1facac225cc594d80ae9e64367b"
  },
  "kernelspec": {
   "display_name": "Python 3.9.7 ('nlu')",
   "language": "python",
   "name": "python3"
  },
  "language_info": {
   "codemirror_mode": {
    "name": "ipython",
    "version": 3
   },
   "file_extension": ".py",
   "mimetype": "text/x-python",
   "name": "python",
   "nbconvert_exporter": "python",
   "pygments_lexer": "ipython3",
   "version": "3.9.7"
  },
  "orig_nbformat": 4
 },
 "nbformat": 4,
 "nbformat_minor": 2
}
