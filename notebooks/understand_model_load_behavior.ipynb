{
 "cells": [
  {
   "cell_type": "markdown",
   "metadata": {},
   "source": [
    "# Dataset conll04\n",
    "\n",
    "This dataset is constructed from news articles and has "
   ]
  },
  {
   "cell_type": "code",
   "execution_count": 2,
   "metadata": {},
   "outputs": [],
   "source": [
    "import sys\n",
    "sys.path.insert(0,'..')\n",
    "import json\n",
    "from abc import abstractmethod, ABC\n",
    "from collections import OrderedDict\n",
    "from logging import Logger\n",
    "from typing import List\n",
    "from tqdm import tqdm\n",
    "from transformers import BertTokenizer\n",
    "\n",
    "from spert import util, models, prediction,  sampling\n",
    "from spert.entities import Dataset, EntityType, RelationType, Entity, Relation, Document\n",
    "from spert.opt import spacy\n",
    "from spert.evaluator import Evaluator\n",
    "from spert.input_reader import JsonInputReader, BaseInputReader\n",
    "from spert.loss import SpERTLoss, Loss\n",
    "from spert.trainer import BaseTrainer\n",
    "from spert.models import SpERT,SpROB, SpLONG\n",
    "\n",
    "import pandas as pd\n",
    "\n",
    "import matplotlib.pyplot as plt\n",
    "import seaborn as sns\n",
    "\n",
    "from logging import raiseExceptions\n",
    "import math\n",
    "import os\n",
    "from typing import Type\n",
    "from unittest import case\n",
    "\n",
    "import torch\n",
    "from torch.nn import DataParallel\n",
    "from torch.optim import Optimizer\n",
    "import transformers\n",
    "from torch.utils.data import DataLoader\n",
    "from transformers import AdamW, BertConfig,RobertaConfig,LongformerConfig  \n",
    "from transformers import BertTokenizer,RobertaTokenizer,LongformerTokenizer\n",
    "\n"
   ]
  },
  {
   "cell_type": "markdown",
   "metadata": {},
   "source": [
    "## Entities and Relation Types\n",
    "Both types are in file `conll04_types.json` and can be extracted as follows: "
   ]
  },
  {
   "cell_type": "code",
   "execution_count": 3,
   "metadata": {},
   "outputs": [
    {
     "data": {
      "text/html": [
       "<div>\n",
       "<style scoped>\n",
       "    .dataframe tbody tr th:only-of-type {\n",
       "        vertical-align: middle;\n",
       "    }\n",
       "\n",
       "    .dataframe tbody tr th {\n",
       "        vertical-align: top;\n",
       "    }\n",
       "\n",
       "    .dataframe thead th {\n",
       "        text-align: right;\n",
       "    }\n",
       "</style>\n",
       "<table border=\"1\" class=\"dataframe\">\n",
       "  <thead>\n",
       "    <tr style=\"text-align: right;\">\n",
       "      <th></th>\n",
       "      <th>short</th>\n",
       "      <th>verbose</th>\n",
       "      <th>symmetric</th>\n",
       "    </tr>\n",
       "  </thead>\n",
       "  <tbody>\n",
       "    <tr>\n",
       "      <th>Work_For</th>\n",
       "      <td>Work</td>\n",
       "      <td>Work for</td>\n",
       "      <td>False</td>\n",
       "    </tr>\n",
       "    <tr>\n",
       "      <th>Kill</th>\n",
       "      <td>Kill</td>\n",
       "      <td>Kill</td>\n",
       "      <td>False</td>\n",
       "    </tr>\n",
       "    <tr>\n",
       "      <th>OrgBased_In</th>\n",
       "      <td>OrgBI</td>\n",
       "      <td>Organization based in</td>\n",
       "      <td>False</td>\n",
       "    </tr>\n",
       "    <tr>\n",
       "      <th>Live_In</th>\n",
       "      <td>Live</td>\n",
       "      <td>Live in</td>\n",
       "      <td>False</td>\n",
       "    </tr>\n",
       "    <tr>\n",
       "      <th>Located_In</th>\n",
       "      <td>LocIn</td>\n",
       "      <td>Located in</td>\n",
       "      <td>False</td>\n",
       "    </tr>\n",
       "  </tbody>\n",
       "</table>\n",
       "</div>"
      ],
      "text/plain": [
       "             short                verbose symmetric\n",
       "Work_For      Work               Work for     False\n",
       "Kill          Kill                   Kill     False\n",
       "OrgBased_In  OrgBI  Organization based in     False\n",
       "Live_In       Live                Live in     False\n",
       "Located_In   LocIn             Located in     False"
      ]
     },
     "execution_count": 3,
     "metadata": {},
     "output_type": "execute_result"
    }
   ],
   "source": [
    "\n",
    "types_path = \"../data/datasets/conll04/conll04_types.json\"\n",
    "\n",
    "types = json.load(open(types_path), object_pairs_hook=OrderedDict)\n",
    "entity_types = pd.DataFrame(types['entities']).transpose()\n",
    "relation_types = pd.DataFrame(types['relations']).transpose()\n",
    "\n",
    "relation_types"
   ]
  },
  {
   "cell_type": "code",
   "execution_count": 4,
   "metadata": {},
   "outputs": [
    {
     "data": {
      "text/html": [
       "<div>\n",
       "<style scoped>\n",
       "    .dataframe tbody tr th:only-of-type {\n",
       "        vertical-align: middle;\n",
       "    }\n",
       "\n",
       "    .dataframe tbody tr th {\n",
       "        vertical-align: top;\n",
       "    }\n",
       "\n",
       "    .dataframe thead th {\n",
       "        text-align: right;\n",
       "    }\n",
       "</style>\n",
       "<table border=\"1\" class=\"dataframe\">\n",
       "  <thead>\n",
       "    <tr style=\"text-align: right;\">\n",
       "      <th></th>\n",
       "      <th>short</th>\n",
       "      <th>verbose</th>\n",
       "    </tr>\n",
       "  </thead>\n",
       "  <tbody>\n",
       "    <tr>\n",
       "      <th>Loc</th>\n",
       "      <td>Loc</td>\n",
       "      <td>Location</td>\n",
       "    </tr>\n",
       "    <tr>\n",
       "      <th>Org</th>\n",
       "      <td>Org</td>\n",
       "      <td>Organization</td>\n",
       "    </tr>\n",
       "    <tr>\n",
       "      <th>Peop</th>\n",
       "      <td>Peop</td>\n",
       "      <td>People</td>\n",
       "    </tr>\n",
       "    <tr>\n",
       "      <th>Other</th>\n",
       "      <td>Other</td>\n",
       "      <td>Other</td>\n",
       "    </tr>\n",
       "  </tbody>\n",
       "</table>\n",
       "</div>"
      ],
      "text/plain": [
       "       short       verbose\n",
       "Loc      Loc      Location\n",
       "Org      Org  Organization\n",
       "Peop    Peop        People\n",
       "Other  Other         Other"
      ]
     },
     "execution_count": 4,
     "metadata": {},
     "output_type": "execute_result"
    }
   ],
   "source": [
    "entity_types"
   ]
  },
  {
   "cell_type": "markdown",
   "metadata": {},
   "source": [
    "## Data Splits\n",
    "\n",
    "The data are pre-split into train, train-dev, "
   ]
  },
  {
   "cell_type": "code",
   "execution_count": 6,
   "metadata": {},
   "outputs": [
    {
     "data": {
      "text/plain": [
       "dict_keys(['train', 'dev', 'test'])"
      ]
     },
     "execution_count": 6,
     "metadata": {},
     "output_type": "execute_result"
    }
   ],
   "source": [
    "paths = [\"../data/datasets/conll04/conll04_train.json\",\n",
    "         #\"../data/datasets/conll04/conll04_train_dev.json\",\n",
    "         \"../data/datasets/conll04/conll04_dev.json\",\n",
    "         \"../data/datasets/conll04/conll04_test.json\"]\n",
    "#labels = [\"train\",\"train_dev\",\"dev\",\"test\"]\n",
    "labels = [\"train\",\"dev\",\"test\"]\n",
    "data_splits = {}\n",
    "for pth, label in zip(paths,labels):\n",
    "    data_splits[label] = json.load(open(pth), object_pairs_hook=OrderedDict)\n",
    "data_splits.keys()\n"
   ]
  },
  {
   "cell_type": "code",
   "execution_count": 8,
   "metadata": {},
   "outputs": [],
   "source": [
    "ex1 = data_splits['test'][100]\n"
   ]
  },
  {
   "cell_type": "markdown",
   "metadata": {},
   "source": [
    "The train-dev set is the union of train and dev as shown below:"
   ]
  },
  {
   "cell_type": "code",
   "execution_count": 9,
   "metadata": {},
   "outputs": [
    {
     "data": {
      "text/plain": [
       "['train has 922 examples', 'dev has 231 examples', 'test has 288 examples']"
      ]
     },
     "execution_count": 9,
     "metadata": {},
     "output_type": "execute_result"
    }
   ],
   "source": [
    "[ \"%s has %i examples\"%(l,len(s)) for l,s in data_splits.items()]"
   ]
  },
  {
   "cell_type": "markdown",
   "metadata": {},
   "source": [
    "The size  of each train-dev example measured as token count:\n",
    " "
   ]
  },
  {
   "cell_type": "code",
   "execution_count": 10,
   "metadata": {},
   "outputs": [
    {
     "data": {
      "image/png": "[encoded data removed]",
      "text/plain": [
       "<Figure size 432x288 with 1 Axes>"
      ]
     },
     "metadata": {
      "needs_background": "light"
     },
     "output_type": "display_data"
    }
   ],
   "source": [
    "sizes = [len(ex['tokens']) for  ex in data_splits['train']+data_splits['dev'] ]\n",
    "plot_bins = plt.hist(sizes, bins=50)\n",
    "#plot_bins"
   ]
  },
  {
   "cell_type": "code",
   "execution_count": 21,
   "metadata": {},
   "outputs": [],
   "source": [
    "seq1 = data_splits['train'][20]['tokens']"
   ]
  },
  {
   "cell_type": "code",
   "execution_count": 49,
   "metadata": {},
   "outputs": [
    {
     "name": "stdout",
     "output_type": "stream",
     "text": [
      "['But', 'Sen.', 'Strom', 'Thurmond', ',', 'R-S.C.', ',', 'sponsor', 'of', 'a', 'proposed', 'constitutional', 'amendment', ',', 'said', ',', '`', '`', 'An', 'overwhelming', 'majority', 'of', 'Americans', 'are', 'looking', 'to', 'the', 'Congress', 'to', '...', 'restore', 'the', 'proper', 'civil', 'respect', 'for', 'our', 'American', 'flag.', \"'\", \"'\"]\n",
      "{'input_ids': [101, 1252, 100, 100, 100, 117, 100, 117, 10767, 1104, 170, 3000, 7950, 12669, 117, 1163, 117, 169, 169, 1760, 10827, 2656, 1104, 4038, 1132, 1702, 1106, 1103, 2757, 1106, 1232, 9176, 1103, 4778, 2987, 4161, 1111, 1412, 1237, 100, 112, 112, 102], 'token_type_ids': [0, 0, 0, 0, 0, 0, 0, 0, 0, 0, 0, 0, 0, 0, 0, 0, 0, 0, 0, 0, 0, 0, 0, 0, 0, 0, 0, 0, 0, 0, 0, 0, 0, 0, 0, 0, 0, 0, 0, 0, 0, 0, 0], 'attention_mask': [1, 1, 1, 1, 1, 1, 1, 1, 1, 1, 1, 1, 1, 1, 1, 1, 1, 1, 1, 1, 1, 1, 1, 1, 1, 1, 1, 1, 1, 1, 1, 1, 1, 1, 1, 1, 1, 1, 1, 1, 1, 1, 1]}\n",
      "{'input_ids': [0, 1708, 3, 3, 3, 6, 3, 6, 3, 1116, 102, 3, 41899, 3, 6, 28613, 6, 12905, 12905, 4688, 3, 19517, 1116, 15085, 1322, 3690, 560, 627, 25997, 560, 734, 3, 627, 3, 37635, 27387, 1990, 2126, 4310, 3, 108, 108, 2], 'attention_mask': [1, 1, 1, 1, 1, 1, 1, 1, 1, 1, 1, 1, 1, 1, 1, 1, 1, 1, 1, 1, 1, 1, 1, 1, 1, 1, 1, 1, 1, 1, 1, 1, 1, 1, 1, 1, 1, 1, 1, 1, 1, 1, 1]}\n"
     ]
    }
   ],
   "source": [
    "from transformers import RobertaTokenizer\n",
    "bertTok = BertTokenizer.from_pretrained('bert-base-cased',do_lower_case=False,cache_dir=None,do_basic_tokenize=False)\n",
    "robTok  = RobertaTokenizer.from_pretrained('roberta-base')\n",
    "print(seq1)\n",
    "print(bertTok.encode_plus(seq1))\n",
    "print(robTok.encode_plus(seq1))\n"
   ]
  },
  {
   "cell_type": "code",
   "execution_count": 42,
   "metadata": {},
   "outputs": [
    {
     "name": "stderr",
     "output_type": "stream",
     "text": [
      "Downloading: 100%|██████████| 878k/878k [00:00<00:00, 10.8MB/s]\n",
      "Downloading: 100%|██████████| 446k/446k [00:00<00:00, 7.35MB/s]\n",
      "Downloading: 100%|██████████| 1.29M/1.29M [00:00<00:00, 9.55MB/s]\n",
      "Downloading: 100%|██████████| 694/694 [00:00<00:00, 229kB/s]\n"
     ]
    },
    {
     "name": "stdout",
     "output_type": "stream",
     "text": [
      "allenai/longformer-base-4096\n"
     ]
    }
   ],
   "source": [
    "mtype = 'splong'\n",
    "model_class = models.get_model(mtype)\n",
    "\n",
    "if mtype == 'spert':\n",
    "    model_name = 'bert-base-cased'\n",
    "    config = BertConfig.from_pretrained(model_name, cache_dir=None)\n",
    "    tokenizer = BertTokenizer.from_pretrained(model_name,do_lower_case=False,cache_dir=None)\n",
    "elif mtype == 'sprob':\n",
    "    model_name = 'roberta-base'\n",
    "    tokenizer = RobertaTokenizer.from_pretrained(model_name,do_lower_case=False,cache_dir=None)\n",
    "    config = RobertaConfig.from_pretrained(model_name, cache_dir=None)\n",
    "elif mtype == 'splong':\n",
    "    model_name = 'allenai/longformer-base-4096'\n",
    "    tokenizer = LongformerTokenizer.from_pretrained(model_name,do_lower_case=False,cache_dir=None)\n",
    "    config = LongformerConfig.from_pretrained(model_name, cache_dir=None)\n",
    "else:\n",
    "    raise Exception(\"Argument model_type must be one of %s\"%['spert','sprob','splong'])\n",
    "\n",
    "util.check_version(config, model_class, model_name)\n",
    "print(model_name)"
   ]
  },
  {
   "cell_type": "code",
   "execution_count": 43,
   "metadata": {},
   "outputs": [
    {
     "data": {
      "text/plain": [
       "'1.1'"
      ]
     },
     "execution_count": 43,
     "metadata": {},
     "output_type": "execute_result"
    }
   ],
   "source": [
    "\n",
    "config.spert_version = model_class.VERSION\n",
    "config.spert_version"
   ]
  },
  {
   "cell_type": "code",
   "execution_count": 44,
   "metadata": {},
   "outputs": [
    {
     "name": "stderr",
     "output_type": "stream",
     "text": [
      "Downloading: 100%|██████████| 570M/570M [00:32<00:00, 18.6MB/s] \n",
      "Some weights of the model checkpoint at allenai/longformer-base-4096 were not used when initializing SpLONG: ['longformer.encoder.layer.0.attention.self.key_global.weight', 'longformer.encoder.layer.2.attention.self.query.weight', 'longformer.encoder.layer.2.attention.self.value_global.bias', 'longformer.encoder.layer.6.attention.self.key_global.bias', 'longformer.encoder.layer.2.attention.self.query_global.bias', 'longformer.encoder.layer.5.attention.self.key_global.bias', 'longformer.encoder.layer.9.output.dense.bias', 'longformer.encoder.layer.9.output.LayerNorm.weight', 'longformer.encoder.layer.5.attention.self.query_global.weight', 'longformer.encoder.layer.2.output.LayerNorm.weight', 'longformer.encoder.layer.0.attention.self.value.bias', 'longformer.encoder.layer.4.attention.self.query_global.bias', 'longformer.encoder.layer.3.attention.self.query_global.bias', 'longformer.encoder.layer.4.intermediate.dense.bias', 'longformer.encoder.layer.9.attention.output.dense.weight', 'longformer.encoder.layer.3.attention.output.LayerNorm.bias', 'longformer.encoder.layer.7.attention.self.value.bias', 'longformer.encoder.layer.8.attention.self.key.weight', 'longformer.encoder.layer.8.output.dense.bias', 'longformer.encoder.layer.2.output.LayerNorm.bias', 'longformer.encoder.layer.8.output.LayerNorm.bias', 'longformer.encoder.layer.0.output.dense.bias', 'longformer.encoder.layer.10.attention.self.key_global.weight', 'longformer.encoder.layer.10.intermediate.dense.weight', 'longformer.encoder.layer.1.attention.self.query.bias', 'longformer.encoder.layer.0.attention.self.query.weight', 'longformer.encoder.layer.6.intermediate.dense.weight', 'longformer.encoder.layer.7.attention.output.LayerNorm.bias', 'longformer.encoder.layer.10.intermediate.dense.bias', 'longformer.encoder.layer.1.intermediate.dense.weight', 'longformer.embeddings.word_embeddings.weight', 'longformer.encoder.layer.11.attention.output.dense.bias', 'longformer.encoder.layer.5.attention.output.LayerNorm.bias', 'longformer.encoder.layer.2.attention.self.key_global.bias', 'longformer.encoder.layer.6.attention.self.value_global.bias', 'longformer.encoder.layer.9.attention.self.key_global.bias', 'longformer.encoder.layer.9.attention.output.LayerNorm.bias', 'longformer.encoder.layer.10.attention.self.query_global.weight', 'longformer.encoder.layer.0.output.LayerNorm.bias', 'longformer.encoder.layer.3.attention.self.query.bias', 'longformer.encoder.layer.5.attention.self.query.bias', 'longformer.encoder.layer.7.attention.self.key_global.bias', 'longformer.encoder.layer.5.attention.self.query_global.bias', 'longformer.encoder.layer.0.attention.self.value.weight', 'longformer.encoder.layer.4.attention.self.value_global.bias', 'longformer.encoder.layer.4.attention.self.query.weight', 'longformer.encoder.layer.7.attention.self.query_global.bias', 'longformer.encoder.layer.2.attention.output.LayerNorm.weight', 'longformer.encoder.layer.10.attention.self.query.bias', 'longformer.encoder.layer.6.attention.self.key.weight', 'longformer.encoder.layer.7.attention.output.dense.bias', 'longformer.encoder.layer.3.attention.self.key.weight', 'longformer.encoder.layer.3.attention.self.key.bias', 'longformer.encoder.layer.1.output.LayerNorm.weight', 'longformer.encoder.layer.4.attention.output.dense.bias', 'longformer.encoder.layer.3.attention.self.key_global.weight', 'longformer.encoder.layer.6.attention.self.query_global.bias', 'longformer.encoder.layer.7.attention.self.value.weight', 'longformer.encoder.layer.4.output.dense.bias', 'longformer.encoder.layer.7.intermediate.dense.bias', 'longformer.encoder.layer.2.attention.self.query.bias', 'longformer.encoder.layer.1.attention.output.dense.weight', 'longformer.encoder.layer.3.intermediate.dense.weight', 'longformer.encoder.layer.9.attention.self.key_global.weight', 'longformer.embeddings.token_type_embeddings.weight', 'longformer.encoder.layer.0.attention.output.dense.bias', 'longformer.encoder.layer.2.attention.output.dense.weight', 'longformer.encoder.layer.1.intermediate.dense.bias', 'longformer.encoder.layer.8.output.LayerNorm.weight', 'longformer.encoder.layer.11.attention.self.value.bias', 'longformer.encoder.layer.1.attention.self.key.weight', 'longformer.encoder.layer.1.attention.self.key_global.bias', 'longformer.encoder.layer.1.attention.output.LayerNorm.bias', 'longformer.encoder.layer.0.attention.self.query_global.weight', 'longformer.encoder.layer.7.attention.self.key.weight', 'longformer.encoder.layer.11.attention.self.key_global.weight', 'longformer.encoder.layer.4.attention.self.key_global.weight', 'longformer.encoder.layer.4.attention.self.key_global.bias', 'longformer.encoder.layer.2.attention.self.query_global.weight', 'longformer.encoder.layer.11.attention.output.dense.weight', 'longformer.encoder.layer.2.attention.self.key.bias', 'longformer.encoder.layer.8.attention.self.value_global.weight', 'longformer.encoder.layer.7.attention.output.dense.weight', 'longformer.encoder.layer.10.output.LayerNorm.weight', 'longformer.encoder.layer.0.intermediate.dense.weight', 'longformer.encoder.layer.3.attention.output.dense.weight', 'longformer.encoder.layer.8.attention.self.key_global.bias', 'longformer.encoder.layer.6.output.dense.bias', 'longformer.encoder.layer.0.attention.self.value_global.weight', 'longformer.encoder.layer.0.attention.self.query.bias', 'longformer.encoder.layer.1.attention.self.value.bias', 'longformer.encoder.layer.2.output.dense.weight', 'longformer.encoder.layer.5.attention.self.value.weight', 'longformer.embeddings.position_embeddings.weight', 'longformer.encoder.layer.5.attention.self.value.bias', 'longformer.encoder.layer.3.attention.self.value_global.weight', 'longformer.encoder.layer.6.attention.self.value.bias', 'longformer.encoder.layer.7.attention.self.query_global.weight', 'longformer.encoder.layer.11.attention.self.key_global.bias', 'longformer.encoder.layer.5.intermediate.dense.bias', 'longformer.encoder.layer.9.attention.self.query.weight', 'longformer.encoder.layer.2.attention.self.value_global.weight', 'longformer.encoder.layer.8.attention.self.key_global.weight', 'longformer.encoder.layer.10.attention.self.query.weight', 'longformer.encoder.layer.6.attention.self.query_global.weight', 'longformer.encoder.layer.6.attention.output.LayerNorm.bias', 'longformer.encoder.layer.2.attention.self.key_global.weight', 'longformer.encoder.layer.0.output.dense.weight', 'longformer.encoder.layer.1.attention.output.dense.bias', 'longformer.encoder.layer.8.attention.self.value.weight', 'longformer.encoder.layer.11.attention.self.value_global.weight', 'longformer.encoder.layer.6.attention.self.value.weight', 'longformer.encoder.layer.10.attention.self.value_global.weight', 'longformer.encoder.layer.5.attention.self.query.weight', 'longformer.encoder.layer.5.output.dense.weight', 'longformer.encoder.layer.3.output.LayerNorm.bias', 'longformer.encoder.layer.2.attention.output.dense.bias', 'longformer.encoder.layer.11.attention.self.query.weight', 'longformer.encoder.layer.3.attention.output.dense.bias', 'longformer.encoder.layer.9.output.dense.weight', 'longformer.encoder.layer.5.output.dense.bias', 'longformer.encoder.layer.10.attention.output.LayerNorm.bias', 'longformer.encoder.layer.8.attention.self.value.bias', 'longformer.encoder.layer.6.attention.self.query.bias', 'longformer.encoder.layer.8.attention.self.query.weight', 'longformer.encoder.layer.11.attention.self.key.bias', 'longformer.encoder.layer.6.attention.output.dense.bias', 'longformer.encoder.layer.9.attention.self.query_global.bias', 'longformer.encoder.layer.0.attention.output.LayerNorm.bias', 'longformer.encoder.layer.4.attention.self.query.bias', 'longformer.encoder.layer.3.attention.output.LayerNorm.weight', 'longformer.encoder.layer.4.attention.output.dense.weight', 'longformer.encoder.layer.10.attention.output.dense.bias', 'longformer.encoder.layer.8.attention.output.LayerNorm.bias', 'longformer.encoder.layer.3.attention.self.value.bias', 'longformer.encoder.layer.1.output.dense.weight', 'longformer.encoder.layer.6.attention.output.dense.weight', 'longformer.encoder.layer.11.attention.output.LayerNorm.weight', 'longformer.encoder.layer.8.attention.self.key.bias', 'longformer.encoder.layer.8.attention.self.query.bias', 'longformer.encoder.layer.7.attention.self.value_global.bias', 'longformer.encoder.layer.8.output.dense.weight', 'longformer.encoder.layer.3.output.dense.weight', 'longformer.encoder.layer.6.attention.self.query.weight', 'longformer.encoder.layer.9.attention.self.query.bias', 'longformer.encoder.layer.5.output.LayerNorm.weight', 'longformer.encoder.layer.1.attention.self.query_global.weight', 'longformer.encoder.layer.4.attention.self.value_global.weight', 'longformer.encoder.layer.6.output.dense.weight', 'longformer.encoder.layer.3.output.LayerNorm.weight', 'longformer.encoder.layer.1.attention.self.key_global.weight', 'longformer.encoder.layer.4.attention.self.value.weight', 'longformer.encoder.layer.5.attention.self.value_global.bias', 'longformer.encoder.layer.2.attention.self.value.weight', 'longformer.encoder.layer.10.output.dense.weight', 'longformer.encoder.layer.7.attention.self.key_global.weight', 'longformer.encoder.layer.6.attention.self.key_global.weight', 'longformer.encoder.layer.10.attention.self.value_global.bias', 'longformer.encoder.layer.1.attention.self.query.weight', 'lm_head.decoder.weight', 'longformer.encoder.layer.1.attention.self.query_global.bias', 'longformer.encoder.layer.4.attention.self.query_global.weight', 'longformer.encoder.layer.8.attention.output.dense.bias', 'longformer.encoder.layer.9.attention.self.key.weight', 'longformer.encoder.layer.3.output.dense.bias', 'longformer.encoder.layer.11.output.dense.bias', 'longformer.encoder.layer.8.attention.self.value_global.bias', 'longformer.encoder.layer.7.output.dense.bias', 'lm_head.bias', 'longformer.encoder.layer.8.attention.output.dense.weight', 'longformer.encoder.layer.1.attention.self.value.weight', 'longformer.encoder.layer.9.attention.self.query_global.weight', 'longformer.encoder.layer.10.attention.self.query_global.bias', 'longformer.encoder.layer.3.attention.self.value_global.bias', 'longformer.encoder.layer.8.attention.self.query_global.bias', 'longformer.encoder.layer.4.output.LayerNorm.weight', 'longformer.encoder.layer.4.attention.output.LayerNorm.bias', 'longformer.encoder.layer.5.attention.self.key_global.weight', 'longformer.encoder.layer.0.attention.self.key.weight', 'longformer.encoder.layer.7.attention.self.value_global.weight', 'longformer.encoder.layer.6.intermediate.dense.bias', 'lm_head.layer_norm.weight', 'longformer.encoder.layer.0.attention.output.LayerNorm.weight', 'longformer.encoder.layer.10.attention.self.value.weight', 'longformer.encoder.layer.9.attention.output.dense.bias', 'longformer.encoder.layer.9.attention.self.key.bias', 'longformer.encoder.layer.6.output.LayerNorm.bias', 'longformer.encoder.layer.10.attention.self.key_global.bias', 'longformer.encoder.layer.11.output.dense.weight', 'longformer.pooler.dense.bias', 'longformer.embeddings.LayerNorm.bias', 'longformer.encoder.layer.3.attention.self.value.weight', 'longformer.encoder.layer.11.attention.self.query.bias', 'longformer.encoder.layer.5.attention.output.dense.bias', 'longformer.encoder.layer.9.attention.self.value.bias', 'longformer.encoder.layer.5.attention.self.value_global.weight', 'longformer.encoder.layer.11.intermediate.dense.weight', 'longformer.encoder.layer.10.attention.output.dense.weight', 'longformer.encoder.layer.7.attention.self.key.bias', 'lm_head.dense.weight', 'longformer.encoder.layer.0.attention.self.key.bias', 'longformer.encoder.layer.0.attention.output.dense.weight', 'longformer.encoder.layer.5.intermediate.dense.weight', 'longformer.encoder.layer.5.attention.self.key.weight', 'longformer.encoder.layer.6.attention.self.key.bias', 'longformer.encoder.layer.11.intermediate.dense.bias', 'longformer.encoder.layer.6.attention.self.value_global.weight', 'lm_head.layer_norm.bias', 'longformer.encoder.layer.7.attention.self.query.weight', 'longformer.encoder.layer.2.attention.self.key.weight', 'longformer.encoder.layer.11.attention.output.LayerNorm.bias', 'longformer.encoder.layer.4.attention.self.value.bias', 'longformer.encoder.layer.5.attention.self.key.bias', 'longformer.encoder.layer.6.output.LayerNorm.weight', 'longformer.encoder.layer.11.attention.self.key.weight', 'longformer.encoder.layer.9.intermediate.dense.weight', 'longformer.encoder.layer.2.attention.output.LayerNorm.bias', 'longformer.encoder.layer.3.attention.self.query.weight', 'longformer.encoder.layer.3.intermediate.dense.bias', 'longformer.encoder.layer.4.attention.self.key.bias', 'longformer.encoder.layer.10.attention.self.value.bias', 'longformer.encoder.layer.4.output.dense.weight', 'longformer.encoder.layer.11.attention.self.query_global.bias', 'longformer.embeddings.LayerNorm.weight', 'longformer.encoder.layer.0.attention.self.key_global.bias', 'longformer.encoder.layer.1.output.dense.bias', 'longformer.encoder.layer.9.attention.self.value_global.weight', 'longformer.encoder.layer.7.attention.output.LayerNorm.weight', 'longformer.encoder.layer.10.output.LayerNorm.bias', 'longformer.encoder.layer.4.attention.self.key.weight', 'longformer.encoder.layer.11.attention.self.value_global.bias', 'longformer.encoder.layer.4.output.LayerNorm.bias', 'longformer.encoder.layer.5.attention.output.LayerNorm.weight', 'longformer.encoder.layer.7.attention.self.query.bias', 'longformer.encoder.layer.2.intermediate.dense.bias', 'longformer.encoder.layer.1.attention.self.value_global.weight', 'longformer.encoder.layer.8.attention.self.query_global.weight', 'longformer.encoder.layer.1.output.LayerNorm.bias', 'longformer.encoder.layer.11.attention.self.query_global.weight', 'longformer.encoder.layer.5.attention.output.dense.weight', 'longformer.encoder.layer.10.attention.self.key.weight', 'longformer.encoder.layer.4.attention.output.LayerNorm.weight', 'longformer.encoder.layer.8.attention.output.LayerNorm.weight', 'longformer.encoder.layer.3.attention.self.key_global.bias', 'longformer.encoder.layer.11.output.LayerNorm.bias', 'longformer.encoder.layer.2.intermediate.dense.weight', 'longformer.encoder.layer.9.attention.output.LayerNorm.weight', 'longformer.encoder.layer.10.output.dense.bias', 'longformer.pooler.dense.weight', 'longformer.encoder.layer.1.attention.output.LayerNorm.weight', 'longformer.encoder.layer.8.intermediate.dense.bias', 'longformer.encoder.layer.11.output.LayerNorm.weight', 'longformer.encoder.layer.10.attention.output.LayerNorm.weight', 'longformer.encoder.layer.9.intermediate.dense.bias', 'longformer.encoder.layer.1.attention.self.key.bias', 'longformer.encoder.layer.2.output.dense.bias', 'longformer.encoder.layer.5.output.LayerNorm.bias', 'longformer.encoder.layer.7.output.LayerNorm.bias', 'lm_head.dense.bias', 'longformer.encoder.layer.0.output.LayerNorm.weight', 'longformer.encoder.layer.9.attention.self.value_global.bias', 'longformer.encoder.layer.10.attention.self.key.bias', 'longformer.encoder.layer.7.intermediate.dense.weight', 'longformer.encoder.layer.1.attention.self.value_global.bias', 'longformer.encoder.layer.8.intermediate.dense.weight', 'longformer.encoder.layer.9.output.LayerNorm.bias', 'longformer.encoder.layer.3.attention.self.query_global.weight', 'longformer.encoder.layer.7.output.LayerNorm.weight', 'longformer.encoder.layer.0.attention.self.value_global.bias', 'longformer.encoder.layer.0.attention.self.query_global.bias', 'longformer.encoder.layer.7.output.dense.weight', 'longformer.encoder.layer.9.attention.self.value.weight', 'longformer.encoder.layer.2.attention.self.value.bias', 'longformer.encoder.layer.6.attention.output.LayerNorm.weight', 'longformer.encoder.layer.0.intermediate.dense.bias', 'longformer.encoder.layer.11.attention.self.value.weight', 'longformer.encoder.layer.4.intermediate.dense.weight']\n",
      "- This IS expected if you are initializing SpLONG from the checkpoint of a model trained on another task or with another architecture (e.g. initializing a BertForSequenceClassification model from a BertForPreTraining model).\n",
      "- This IS NOT expected if you are initializing SpLONG from the checkpoint of a model that you expect to be exactly identical (initializing a BertForSequenceClassification model from a BertForSequenceClassification model).\n",
      "Some weights of SpLONG were not initialized from the model checkpoint at allenai/longformer-base-4096 and are newly initialized: ['longformer.bert.encoder.layer.1.attention.self.query.bias', 'longformer.bert.encoder.layer.4.attention.self.value.weight', 'longformer.bert.encoder.layer.2.attention.self.query_global.bias', 'longformer.bert.encoder.layer.7.attention.self.key_global.bias', 'longformer.bert.encoder.layer.4.attention.self.value_global.bias', 'longformer.bert.encoder.layer.5.attention.output.dense.weight', 'longformer.bert.encoder.layer.9.intermediate.dense.weight', 'longformer.bert.encoder.layer.11.attention.output.dense.weight', 'longformer.bert.encoder.layer.11.output.LayerNorm.weight', 'longformer.bert.encoder.layer.1.attention.self.key.bias', 'longformer.bert.encoder.layer.5.attention.self.key.bias', 'longformer.bert.encoder.layer.7.intermediate.dense.bias', 'longformer.bert.encoder.layer.2.attention.output.LayerNorm.bias', 'longformer.bert.encoder.layer.2.intermediate.dense.bias', 'longformer.bert.encoder.layer.3.attention.output.dense.weight', 'longformer.bert.encoder.layer.3.output.dense.bias', 'longformer.bert.encoder.layer.6.attention.self.query_global.weight', 'longformer.bert.encoder.layer.0.attention.self.key_global.weight', 'longformer.bert.encoder.layer.4.attention.self.key_global.bias', 'longformer.bert.encoder.layer.3.attention.self.query.bias', 'longformer.bert.encoder.layer.6.attention.self.key.weight', 'longformer.bert.encoder.layer.1.attention.self.key_global.bias', 'longformer.bert.encoder.layer.4.attention.self.query.bias', 'longformer.bert.encoder.layer.6.attention.self.value.weight', 'longformer.bert.encoder.layer.9.attention.self.value_global.weight', 'longformer.bert.encoder.layer.10.attention.self.query.bias', 'longformer.bert.encoder.layer.4.attention.self.value.bias', 'longformer.bert.encoder.layer.4.intermediate.dense.bias', 'longformer.bert.encoder.layer.5.attention.self.value_global.bias', 'longformer.bert.encoder.layer.5.attention.self.query.weight', 'longformer.bert.encoder.layer.1.attention.self.key_global.weight', 'longformer.bert.encoder.layer.4.attention.output.dense.weight', 'longformer.bert.encoder.layer.9.output.LayerNorm.bias', 'longformer.bert.encoder.layer.10.output.dense.weight', 'longformer.bert.encoder.layer.7.attention.output.dense.bias', 'longformer.bert.encoder.layer.10.attention.self.value_global.weight', 'longformer.bert.encoder.layer.4.attention.output.LayerNorm.bias', 'longformer.bert.encoder.layer.3.output.LayerNorm.weight', 'longformer.bert.encoder.layer.1.attention.self.value.bias', 'longformer.bert.encoder.layer.6.attention.self.query.weight', 'longformer.bert.encoder.layer.1.attention.self.value_global.bias', 'longformer.bert.encoder.layer.7.attention.self.query_global.weight', 'longformer.bert.encoder.layer.11.attention.output.dense.bias', 'longformer.bert.encoder.layer.4.attention.self.key.weight', 'longformer.bert.embeddings.token_type_embeddings.weight', 'longformer.bert.encoder.layer.11.attention.self.query.bias', 'longformer.bert.encoder.layer.6.attention.self.value_global.weight', 'longformer.bert.encoder.layer.4.attention.output.dense.bias', 'longformer.bert.encoder.layer.5.attention.self.query_global.bias', 'longformer.bert.encoder.layer.11.attention.self.key_global.weight', 'longformer.bert.encoder.layer.6.attention.self.query.bias', 'longformer.bert.encoder.layer.10.output.LayerNorm.bias', 'longformer.bert.encoder.layer.0.output.LayerNorm.bias', 'longformer.bert.encoder.layer.5.attention.output.LayerNorm.weight', 'longformer.bert.encoder.layer.6.attention.self.value_global.bias', 'longformer.bert.encoder.layer.5.attention.self.key.weight', 'longformer.bert.encoder.layer.10.attention.output.dense.bias', 'longformer.bert.encoder.layer.6.attention.output.LayerNorm.weight', 'longformer.bert.encoder.layer.11.attention.self.query_global.weight', 'longformer.bert.encoder.layer.10.attention.self.query.weight', 'longformer.bert.encoder.layer.0.attention.self.value_global.bias', 'longformer.bert.encoder.layer.9.attention.self.query_global.bias', 'longformer.bert.encoder.layer.0.output.dense.weight', 'longformer.bert.encoder.layer.9.attention.output.LayerNorm.bias', 'longformer.bert.encoder.layer.3.attention.output.LayerNorm.bias', 'longformer.bert.pooler.dense.weight', 'longformer.bert.encoder.layer.4.output.dense.weight', 'longformer.bert.encoder.layer.11.attention.self.value.bias', 'longformer.bert.encoder.layer.7.attention.self.query.weight', 'longformer.bert.encoder.layer.9.output.LayerNorm.weight', 'longformer.bert.encoder.layer.8.attention.self.query.weight', 'longformer.bert.encoder.layer.11.attention.self.query_global.bias', 'longformer.bert.encoder.layer.1.output.dense.weight', 'longformer.bert.encoder.layer.11.attention.self.value_global.bias', 'longformer.bert.encoder.layer.8.attention.self.query.bias', 'longformer.bert.encoder.layer.8.attention.self.key.weight', 'longformer.bert.encoder.layer.4.attention.output.LayerNorm.weight', 'longformer.bert.encoder.layer.10.attention.self.value.weight', 'longformer.bert.encoder.layer.10.attention.self.query_global.bias', 'longformer.bert.encoder.layer.10.attention.output.LayerNorm.bias', 'longformer.bert.encoder.layer.3.output.dense.weight', 'longformer.rel_classifier.bias', 'longformer.bert.encoder.layer.5.intermediate.dense.bias', 'longformer.bert.encoder.layer.7.attention.self.query.bias', 'longformer.bert.encoder.layer.2.attention.output.LayerNorm.weight', 'longformer.bert.encoder.layer.8.attention.self.key_global.weight', 'longformer.bert.encoder.layer.11.output.dense.bias', 'longformer.bert.encoder.layer.4.attention.self.query_global.bias', 'longformer.bert.encoder.layer.1.intermediate.dense.bias', 'longformer.entity_classifier.bias', 'longformer.bert.encoder.layer.9.output.dense.weight', 'longformer.bert.encoder.layer.0.attention.self.key_global.bias', 'longformer.bert.encoder.layer.3.output.LayerNorm.bias', 'longformer.bert.encoder.layer.2.attention.self.key.weight', 'longformer.bert.encoder.layer.5.attention.output.dense.bias', 'longformer.bert.encoder.layer.1.attention.output.dense.bias', 'longformer.rel_classifier.weight', 'longformer.bert.encoder.layer.0.attention.self.query_global.weight', 'longformer.bert.encoder.layer.9.attention.self.key_global.weight', 'longformer.bert.encoder.layer.8.output.dense.weight', 'longformer.bert.encoder.layer.0.attention.self.key.bias', 'longformer.bert.encoder.layer.2.attention.self.query_global.weight', 'longformer.bert.encoder.layer.6.output.dense.weight', 'longformer.bert.encoder.layer.10.attention.self.value_global.bias', 'longformer.bert.encoder.layer.10.attention.output.dense.weight', 'longformer.bert.encoder.layer.10.attention.output.LayerNorm.weight', 'longformer.size_embeddings.weight', 'longformer.bert.encoder.layer.6.attention.self.key.bias', 'longformer.bert.encoder.layer.8.attention.self.value_global.weight', 'longformer.bert.encoder.layer.0.intermediate.dense.weight', 'longformer.bert.encoder.layer.0.attention.self.query.weight', 'longformer.bert.encoder.layer.1.output.LayerNorm.bias', 'longformer.bert.encoder.layer.3.attention.output.LayerNorm.weight', 'longformer.bert.encoder.layer.3.attention.self.value.weight', 'longformer.bert.encoder.layer.4.attention.self.value_global.weight', 'longformer.bert.encoder.layer.8.output.LayerNorm.weight', 'longformer.bert.encoder.layer.6.attention.self.key_global.bias', 'longformer.bert.embeddings.LayerNorm.weight', 'longformer.bert.encoder.layer.8.output.LayerNorm.bias', 'longformer.bert.encoder.layer.9.attention.self.query.bias', 'longformer.bert.encoder.layer.11.output.dense.weight', 'longformer.bert.encoder.layer.4.output.LayerNorm.weight', 'longformer.bert.encoder.layer.5.attention.self.key_global.weight', 'longformer.bert.encoder.layer.6.output.LayerNorm.weight', 'longformer.bert.encoder.layer.2.attention.self.value.bias', 'longformer.bert.embeddings.word_embeddings.weight', 'longformer.bert.encoder.layer.2.attention.self.query.weight', 'longformer.bert.encoder.layer.1.attention.self.query_global.bias', 'longformer.bert.encoder.layer.2.output.dense.bias', 'longformer.bert.encoder.layer.7.attention.self.query_global.bias', 'longformer.bert.encoder.layer.9.attention.self.key_global.bias', 'longformer.bert.encoder.layer.6.attention.output.LayerNorm.bias', 'longformer.bert.encoder.layer.9.output.dense.bias', 'longformer.bert.encoder.layer.10.intermediate.dense.weight', 'longformer.bert.encoder.layer.0.attention.output.dense.bias', 'longformer.bert.embeddings.position_embeddings.weight', 'longformer.bert.encoder.layer.5.output.LayerNorm.weight', 'longformer.bert.encoder.layer.3.attention.self.key_global.weight', 'longformer.bert.encoder.layer.3.attention.self.value_global.bias', 'longformer.bert.encoder.layer.2.intermediate.dense.weight', 'longformer.bert.encoder.layer.2.attention.self.value.weight', 'longformer.bert.encoder.layer.11.attention.self.query.weight', 'longformer.bert.encoder.layer.10.intermediate.dense.bias', 'longformer.bert.encoder.layer.1.attention.output.LayerNorm.bias', 'longformer.bert.encoder.layer.5.attention.self.value_global.weight', 'longformer.bert.encoder.layer.0.output.LayerNorm.weight', 'longformer.bert.encoder.layer.2.attention.self.value_global.weight', 'longformer.bert.encoder.layer.8.attention.output.LayerNorm.bias', 'longformer.bert.encoder.layer.4.attention.self.query_global.weight', 'longformer.bert.encoder.layer.3.attention.self.query.weight', 'longformer.bert.encoder.layer.8.attention.self.value_global.bias', 'longformer.bert.encoder.layer.9.intermediate.dense.bias', 'longformer.bert.encoder.layer.5.attention.self.query_global.weight', 'longformer.bert.encoder.layer.11.attention.self.value.weight', 'longformer.bert.encoder.layer.0.attention.self.query.bias', 'longformer.bert.encoder.layer.10.attention.self.value.bias', 'longformer.bert.encoder.layer.7.attention.self.key.weight', 'longformer.bert.encoder.layer.2.attention.self.value_global.bias', 'longformer.bert.encoder.layer.2.output.dense.weight', 'longformer.bert.encoder.layer.7.attention.output.dense.weight', 'longformer.bert.encoder.layer.9.attention.self.query_global.weight', 'longformer.bert.encoder.layer.11.attention.self.key_global.bias', 'longformer.bert.embeddings.LayerNorm.bias', 'longformer.bert.encoder.layer.1.attention.self.value_global.weight', 'longformer.bert.encoder.layer.3.attention.output.dense.bias', 'longformer.bert.encoder.layer.9.attention.output.dense.bias', 'longformer.bert.encoder.layer.3.attention.self.query_global.bias', 'longformer.bert.encoder.layer.9.attention.output.LayerNorm.weight', 'longformer.bert.encoder.layer.1.attention.self.query.weight', 'longformer.bert.encoder.layer.6.attention.self.value.bias', 'longformer.bert.encoder.layer.0.attention.output.LayerNorm.weight', 'longformer.bert.encoder.layer.1.attention.self.key.weight', 'longformer.bert.encoder.layer.3.attention.self.query_global.weight', 'longformer.bert.encoder.layer.7.output.LayerNorm.weight', 'longformer.bert.encoder.layer.2.attention.self.key.bias', 'longformer.bert.encoder.layer.8.intermediate.dense.bias', 'longformer.bert.encoder.layer.0.attention.self.key.weight', 'longformer.bert.encoder.layer.3.attention.self.value.bias', 'longformer.bert.encoder.layer.1.attention.self.query_global.weight', 'longformer.bert.encoder.layer.4.attention.self.key_global.weight', 'longformer.bert.encoder.layer.3.attention.self.key.weight', 'longformer.bert.encoder.layer.6.intermediate.dense.weight', 'longformer.bert.encoder.layer.6.attention.output.dense.weight', 'longformer.bert.encoder.layer.11.intermediate.dense.bias', 'longformer.bert.encoder.layer.7.attention.self.key.bias', 'longformer.bert.encoder.layer.6.output.LayerNorm.bias', 'longformer.bert.encoder.layer.5.output.LayerNorm.bias', 'longformer.bert.encoder.layer.11.attention.self.value_global.weight', 'longformer.bert.encoder.layer.8.intermediate.dense.weight', 'longformer.bert.encoder.layer.7.output.dense.bias', 'longformer.bert.encoder.layer.9.attention.self.value_global.bias', 'longformer.bert.encoder.layer.5.attention.self.query.bias', 'longformer.bert.encoder.layer.7.attention.output.LayerNorm.weight', 'longformer.bert.encoder.layer.7.attention.self.key_global.weight', 'longformer.bert.encoder.layer.9.attention.output.dense.weight', 'longformer.bert.encoder.layer.2.attention.self.query.bias', 'longformer.bert.encoder.layer.0.output.dense.bias', 'longformer.bert.encoder.layer.0.attention.self.value.bias', 'longformer.entity_classifier.weight', 'longformer.bert.encoder.layer.5.attention.self.value.weight', 'longformer.bert.encoder.layer.3.attention.self.key.bias', 'longformer.bert.encoder.layer.0.attention.self.value.weight', 'longformer.bert.encoder.layer.4.attention.self.key.bias', 'longformer.bert.encoder.layer.4.attention.self.query.weight', 'longformer.bert.encoder.layer.0.attention.self.value_global.weight', 'longformer.bert.encoder.layer.6.output.dense.bias', 'longformer.bert.pooler.dense.bias', 'longformer.bert.encoder.layer.0.attention.self.query_global.bias', 'longformer.bert.encoder.layer.8.attention.self.key.bias', 'longformer.bert.encoder.layer.7.attention.self.value.bias', 'longformer.bert.encoder.layer.4.output.LayerNorm.bias', 'longformer.bert.encoder.layer.11.attention.self.key.weight', 'longformer.bert.encoder.layer.8.attention.self.value.weight', 'longformer.bert.encoder.layer.7.attention.self.value_global.bias', 'longformer.bert.encoder.layer.1.output.LayerNorm.weight', 'longformer.bert.encoder.layer.2.output.LayerNorm.bias', 'longformer.bert.encoder.layer.7.intermediate.dense.weight', 'longformer.bert.encoder.layer.3.intermediate.dense.weight', 'longformer.bert.encoder.layer.3.attention.self.value_global.weight', 'longformer.bert.encoder.layer.5.output.dense.weight', 'longformer.bert.encoder.layer.8.attention.output.dense.weight', 'longformer.bert.encoder.layer.8.attention.self.value.bias', 'longformer.bert.encoder.layer.8.attention.output.dense.bias', 'longformer.bert.encoder.layer.1.intermediate.dense.weight', 'longformer.bert.encoder.layer.10.output.LayerNorm.weight', 'longformer.bert.encoder.layer.2.output.LayerNorm.weight', 'longformer.bert.encoder.layer.2.attention.output.dense.bias', 'longformer.bert.encoder.layer.5.attention.self.key_global.bias', 'longformer.bert.encoder.layer.7.attention.output.LayerNorm.bias', 'longformer.bert.encoder.layer.8.attention.self.query_global.bias', 'longformer.bert.encoder.layer.9.attention.self.value.weight', 'longformer.bert.encoder.layer.4.intermediate.dense.weight', 'longformer.bert.encoder.layer.0.intermediate.dense.bias', 'longformer.bert.encoder.layer.9.attention.self.key.bias', 'longformer.bert.encoder.layer.6.attention.self.query_global.bias', 'longformer.bert.encoder.layer.10.output.dense.bias', 'longformer.bert.encoder.layer.5.attention.self.value.bias', 'longformer.bert.encoder.layer.8.output.dense.bias', 'longformer.bert.encoder.layer.6.attention.self.key_global.weight', 'longformer.bert.encoder.layer.9.attention.self.query.weight', 'longformer.bert.encoder.layer.10.attention.self.key.bias', 'longformer.bert.encoder.layer.5.intermediate.dense.weight', 'longformer.bert.encoder.layer.1.attention.output.LayerNorm.weight', 'longformer.bert.encoder.layer.1.output.dense.bias', 'longformer.bert.encoder.layer.0.attention.output.dense.weight', 'longformer.bert.encoder.layer.10.attention.self.key.weight', 'longformer.bert.encoder.layer.6.intermediate.dense.bias', 'longformer.bert.encoder.layer.2.attention.output.dense.weight', 'longformer.bert.encoder.layer.2.attention.self.key_global.bias', 'longformer.bert.encoder.layer.0.attention.output.LayerNorm.bias', 'longformer.bert.encoder.layer.8.attention.self.key_global.bias', 'longformer.bert.encoder.layer.9.attention.self.key.weight', 'longformer.bert.encoder.layer.10.attention.self.query_global.weight', 'longformer.bert.encoder.layer.7.attention.self.value_global.weight', 'longformer.bert.encoder.layer.5.attention.output.LayerNorm.bias', 'longformer.bert.encoder.layer.6.attention.output.dense.bias', 'longformer.bert.encoder.layer.1.attention.output.dense.weight', 'longformer.bert.encoder.layer.7.output.LayerNorm.bias', 'longformer.bert.encoder.layer.8.attention.self.query_global.weight', 'longformer.bert.encoder.layer.9.attention.self.value.bias', 'longformer.bert.encoder.layer.11.attention.self.key.bias', 'longformer.bert.encoder.layer.5.output.dense.bias', 'longformer.bert.encoder.layer.8.attention.output.LayerNorm.weight', 'longformer.bert.encoder.layer.11.output.LayerNorm.bias', 'longformer.bert.encoder.layer.10.attention.self.key_global.weight', 'longformer.bert.encoder.layer.4.output.dense.bias', 'longformer.bert.encoder.layer.11.attention.output.LayerNorm.weight', 'longformer.bert.encoder.layer.11.intermediate.dense.weight', 'longformer.bert.encoder.layer.1.attention.self.value.weight', 'longformer.bert.encoder.layer.2.attention.self.key_global.weight', 'longformer.bert.encoder.layer.3.attention.self.key_global.bias', 'longformer.bert.encoder.layer.3.intermediate.dense.bias', 'longformer.bert.encoder.layer.10.attention.self.key_global.bias', 'longformer.bert.encoder.layer.11.attention.output.LayerNorm.bias', 'longformer.bert.encoder.layer.7.output.dense.weight', 'longformer.bert.encoder.layer.7.attention.self.value.weight']\n",
      "You should probably TRAIN this model on a down-stream task to be able to use it for predictions and inference.\n"
     ]
    }
   ],
   "source": [
    "model = model_class.from_pretrained(model_name,\n",
    "                                    config=config,\n",
    "                                    # SpERT model parameters\n",
    "                                    #cls_token=self._tokenizer.convert_tokens_to_ids('[CLS]'),\n",
    "                                    cls_token=tokenizer.cls_token_id,\n",
    "                                    relation_types=4,\n",
    "                                    entity_types=5,\n",
    "                                    max_pairs=1000,\n",
    "                                    prop_drop=0.1,\n",
    "                                    size_embedding=25,\n",
    "                                    freeze_transformer=False,\n",
    "                                    cache_dir=None\n",
    "                                    )\n"
   ]
  },
  {
   "cell_type": "code",
   "execution_count": null,
   "metadata": {},
   "outputs": [],
   "source": []
  }
 ],
 "metadata": {
  "interpreter": {
   "hash": "07e16bd5aae80a5a2fd0a0d3b13861e825cae1facac225cc594d80ae9e64367b"
  },
  "kernelspec": {
   "display_name": "Python 3.9.7 ('nlu')",
   "language": "python",
   "name": "python3"
  },
  "language_info": {
   "codemirror_mode": {
    "name": "ipython",
    "version": 3
   },
   "file_extension": ".py",
   "mimetype": "text/x-python",
   "name": "python",
   "nbconvert_exporter": "python",
   "pygments_lexer": "ipython3",
   "version": "3.9.7"
  },
  "orig_nbformat": 4
 },
 "nbformat": 4,
 "nbformat_minor": 2
}
