{
 "cells": [
  {
   "cell_type": "markdown",
   "metadata": {},
   "source": [
    "# Dataset conll04\n",
    "\n",
    "This dataset is constructed from news articles and has "
   ]
  },
  {
   "cell_type": "code",
   "execution_count": 22,
   "metadata": {},
   "outputs": [
    {
     "data": {
      "text/html": [
       "<div>\n",
       "<style scoped>\n",
       "    .dataframe tbody tr th:only-of-type {\n",
       "        vertical-align: middle;\n",
       "    }\n",
       "\n",
       "    .dataframe tbody tr th {\n",
       "        vertical-align: top;\n",
       "    }\n",
       "\n",
       "    .dataframe thead th {\n",
       "        text-align: right;\n",
       "    }\n",
       "</style>\n",
       "<table border=\"1\" class=\"dataframe\">\n",
       "  <thead>\n",
       "    <tr style=\"text-align: right;\">\n",
       "      <th></th>\n",
       "      <th>short</th>\n",
       "      <th>verbose</th>\n",
       "      <th>symmetric</th>\n",
       "    </tr>\n",
       "  </thead>\n",
       "  <tbody>\n",
       "    <tr>\n",
       "      <th>Work_For</th>\n",
       "      <td>Work</td>\n",
       "      <td>Work for</td>\n",
       "      <td>False</td>\n",
       "    </tr>\n",
       "    <tr>\n",
       "      <th>Kill</th>\n",
       "      <td>Kill</td>\n",
       "      <td>Kill</td>\n",
       "      <td>False</td>\n",
       "    </tr>\n",
       "    <tr>\n",
       "      <th>OrgBased_In</th>\n",
       "      <td>OrgBI</td>\n",
       "      <td>Organization based in</td>\n",
       "      <td>False</td>\n",
       "    </tr>\n",
       "    <tr>\n",
       "      <th>Live_In</th>\n",
       "      <td>Live</td>\n",
       "      <td>Live in</td>\n",
       "      <td>False</td>\n",
       "    </tr>\n",
       "    <tr>\n",
       "      <th>Located_In</th>\n",
       "      <td>LocIn</td>\n",
       "      <td>Located in</td>\n",
       "      <td>False</td>\n",
       "    </tr>\n",
       "  </tbody>\n",
       "</table>\n",
       "</div>"
      ],
      "text/plain": [
       "             short                verbose symmetric\n",
       "Work_For      Work               Work for     False\n",
       "Kill          Kill                   Kill     False\n",
       "OrgBased_In  OrgBI  Organization based in     False\n",
       "Live_In       Live                Live in     False\n",
       "Located_In   LocIn             Located in     False"
      ]
     },
     "execution_count": 22,
     "metadata": {},
     "output_type": "execute_result"
    }
   ],
   "source": [
    "import sys\n",
    "sys.path.insert(0,'..')\n",
    "import json\n",
    "from abc import abstractmethod, ABC\n",
    "from collections import OrderedDict\n",
    "from logging import Logger\n",
    "from typing import List\n",
    "from tqdm import tqdm\n",
    "from transformers import BertTokenizer\n",
    "\n",
    "from spert import util\n",
    "from spert.entities import Dataset, EntityType, RelationType, Entity, Relation, Document\n",
    "from spert.opt import spacy\n",
    "import pandas as pd\n",
    "\n"
   ]
  },
  {
   "cell_type": "markdown",
   "metadata": {},
   "source": [
    "## Entities and Relation Types\n",
    "Both types are in file `conll04_types.json` and can be extracted as follows: "
   ]
  },
  {
   "cell_type": "code",
   "execution_count": 24,
   "metadata": {},
   "outputs": [
    {
     "data": {
      "text/html": [
       "<div>\n",
       "<style scoped>\n",
       "    .dataframe tbody tr th:only-of-type {\n",
       "        vertical-align: middle;\n",
       "    }\n",
       "\n",
       "    .dataframe tbody tr th {\n",
       "        vertical-align: top;\n",
       "    }\n",
       "\n",
       "    .dataframe thead th {\n",
       "        text-align: right;\n",
       "    }\n",
       "</style>\n",
       "<table border=\"1\" class=\"dataframe\">\n",
       "  <thead>\n",
       "    <tr style=\"text-align: right;\">\n",
       "      <th></th>\n",
       "      <th>short</th>\n",
       "      <th>verbose</th>\n",
       "      <th>symmetric</th>\n",
       "    </tr>\n",
       "  </thead>\n",
       "  <tbody>\n",
       "    <tr>\n",
       "      <th>Work_For</th>\n",
       "      <td>Work</td>\n",
       "      <td>Work for</td>\n",
       "      <td>False</td>\n",
       "    </tr>\n",
       "    <tr>\n",
       "      <th>Kill</th>\n",
       "      <td>Kill</td>\n",
       "      <td>Kill</td>\n",
       "      <td>False</td>\n",
       "    </tr>\n",
       "    <tr>\n",
       "      <th>OrgBased_In</th>\n",
       "      <td>OrgBI</td>\n",
       "      <td>Organization based in</td>\n",
       "      <td>False</td>\n",
       "    </tr>\n",
       "    <tr>\n",
       "      <th>Live_In</th>\n",
       "      <td>Live</td>\n",
       "      <td>Live in</td>\n",
       "      <td>False</td>\n",
       "    </tr>\n",
       "    <tr>\n",
       "      <th>Located_In</th>\n",
       "      <td>LocIn</td>\n",
       "      <td>Located in</td>\n",
       "      <td>False</td>\n",
       "    </tr>\n",
       "  </tbody>\n",
       "</table>\n",
       "</div>"
      ],
      "text/plain": [
       "             short                verbose symmetric\n",
       "Work_For      Work               Work for     False\n",
       "Kill          Kill                   Kill     False\n",
       "OrgBased_In  OrgBI  Organization based in     False\n",
       "Live_In       Live                Live in     False\n",
       "Located_In   LocIn             Located in     False"
      ]
     },
     "execution_count": 24,
     "metadata": {},
     "output_type": "execute_result"
    }
   ],
   "source": [
    "\n",
    "types_path = \"../data/datasets/conll04/conll04_types.json\"\n",
    "\n",
    "types = json.load(open(types_path), object_pairs_hook=OrderedDict)\n",
    "entity_types = pd.DataFrame(types['entities']).transpose()\n",
    "relation_types = pd.DataFrame(types['relations']).transpose()\n",
    "\n",
    "relation_types"
   ]
  },
  {
   "cell_type": "code",
   "execution_count": 25,
   "metadata": {},
   "outputs": [
    {
     "data": {
      "text/html": [
       "<div>\n",
       "<style scoped>\n",
       "    .dataframe tbody tr th:only-of-type {\n",
       "        vertical-align: middle;\n",
       "    }\n",
       "\n",
       "    .dataframe tbody tr th {\n",
       "        vertical-align: top;\n",
       "    }\n",
       "\n",
       "    .dataframe thead th {\n",
       "        text-align: right;\n",
       "    }\n",
       "</style>\n",
       "<table border=\"1\" class=\"dataframe\">\n",
       "  <thead>\n",
       "    <tr style=\"text-align: right;\">\n",
       "      <th></th>\n",
       "      <th>short</th>\n",
       "      <th>verbose</th>\n",
       "    </tr>\n",
       "  </thead>\n",
       "  <tbody>\n",
       "    <tr>\n",
       "      <th>Loc</th>\n",
       "      <td>Loc</td>\n",
       "      <td>Location</td>\n",
       "    </tr>\n",
       "    <tr>\n",
       "      <th>Org</th>\n",
       "      <td>Org</td>\n",
       "      <td>Organization</td>\n",
       "    </tr>\n",
       "    <tr>\n",
       "      <th>Peop</th>\n",
       "      <td>Peop</td>\n",
       "      <td>People</td>\n",
       "    </tr>\n",
       "    <tr>\n",
       "      <th>Other</th>\n",
       "      <td>Other</td>\n",
       "      <td>Other</td>\n",
       "    </tr>\n",
       "  </tbody>\n",
       "</table>\n",
       "</div>"
      ],
      "text/plain": [
       "       short       verbose\n",
       "Loc      Loc      Location\n",
       "Org      Org  Organization\n",
       "Peop    Peop        People\n",
       "Other  Other         Other"
      ]
     },
     "execution_count": 25,
     "metadata": {},
     "output_type": "execute_result"
    }
   ],
   "source": [
    "entity_types"
   ]
  },
  {
   "cell_type": "markdown",
   "metadata": {},
   "source": [
    "## Data Splits\n",
    "\n",
    "The data are pre-split into train, train-dev, "
   ]
  },
  {
   "cell_type": "code",
   "execution_count": 31,
   "metadata": {},
   "outputs": [
    {
     "data": {
      "text/plain": [
       "dict_keys(['train', 'train_dev', 'dev', 'test'])"
      ]
     },
     "execution_count": 31,
     "metadata": {},
     "output_type": "execute_result"
    }
   ],
   "source": [
    "paths = [\"../data/datasets/conll04/conll04_train.json\",\n",
    "         \"../data/datasets/conll04/conll04_train_dev.json\",\n",
    "         \"../data/datasets/conll04/conll04_dev.json\",\n",
    "         \"../data/datasets/conll04/conll04_test.json\"]\n",
    "labels = [\"train\",\"train_dev\",\"dev\",\"test\"]\n",
    "data_splits = {}\n",
    "for pth, label in zip(paths,labels):\n",
    "    data_splits[label] = json.load(open(pth), object_pairs_hook=OrderedDict)\n",
    "data_splits.keys()\n"
   ]
  },
  {
   "cell_type": "code",
   "execution_count": 45,
   "metadata": {},
   "outputs": [
    {
     "name": "stdout",
     "output_type": "stream",
     "text": [
      "Each example contains: odict_keys(['tokens', 'entities', 'relations', 'orig_id'])\n",
      "Tokens: ['The', 'DEM', 'outlawed', 'plastic', 'ducks', 'in', 'Rhode', 'Island', 'waterways', 'after', 'a', 'race', 'in', 'Warwick', 'sent', '7', ',', '000', 'toy', 'ducks', 'floating', 'down', 'the', 'Pawtuxet', 'River.']\n",
      "\n",
      "Entities:\n",
      "  type  start  end\n",
      "0  Loc      6    8\n",
      "1  Loc     13   14\n",
      "2  Loc     23   25\n",
      "\n",
      "Relations:\n",
      "[OrderedDict([('type', 'Located_In'), ('head', 1), ('tail', 0)]), OrderedDict([('type', 'Located_In'), ('head', 2), ('tail', 0)]), OrderedDict([('type', 'Located_In'), ('head', 2), ('tail', 1)])]\n",
      "\n",
      "original id: 1996\n"
     ]
    }
   ],
   "source": [
    "ex1 = data_splits['test'][100]\n",
    "print(\"Each example contains:\",ex1.keys())\n",
    "print('Tokens:', ex1['tokens'])\n",
    "print()\n",
    "print('Entities:')\n",
    "print(pd.DataFrame(ex1['entities']))\n",
    "print()\n",
    "print('Relations:')\n",
    "print(ex1['relations'])\n",
    "print()\n",
    "print('original id:', ex1['orig_id'])\n",
    "\n"
   ]
  },
  {
   "cell_type": "markdown",
   "metadata": {},
   "source": [
    "The train-dev set is the union of train and dev as shown below:"
   ]
  },
  {
   "cell_type": "code",
   "execution_count": 49,
   "metadata": {},
   "outputs": [
    {
     "data": {
      "text/plain": [
       "['train has 922 examples',\n",
       " 'train_dev has 1153 examples',\n",
       " 'dev has 231 examples',\n",
       " 'test has 288 examples']"
      ]
     },
     "execution_count": 49,
     "metadata": {},
     "output_type": "execute_result"
    }
   ],
   "source": [
    "[ \"%s has %i examples\"%(l,len(s)) for l,s in data_splits.items()]"
   ]
  },
  {
   "cell_type": "code",
   "execution_count": 66,
   "metadata": {},
   "outputs": [
    {
     "name": "stdout",
     "output_type": "stream",
     "text": [
      "\n",
      "Split train\n",
      "entity type Peop has 1087 mentions\n",
      "entity type Loc has 1219 mentions\n",
      "entity type Other has 455 mentions\n",
      "entity type Org has 616 mentions\n",
      "\n",
      "Split train_dev\n",
      "entity type Peop has 1370 mentions\n",
      "entity type Loc has 1541 mentions\n",
      "entity type Other has 573 mentions\n",
      "entity type Org has 786 mentions\n",
      "\n",
      "Split dev\n",
      "entity type Peop has 283 mentions\n",
      "entity type Loc has 322 mentions\n",
      "entity type Other has 118 mentions\n",
      "entity type Org has 170 mentions\n",
      "\n",
      "Split test\n",
      "entity type Peop has 321 mentions\n",
      "entity type Loc has 427 mentions\n",
      "entity type Other has 133 mentions\n",
      "entity type Org has 198 mentions\n"
     ]
    }
   ],
   "source": [
    "for split in data_splits:\n",
    "    print()\n",
    "    print('Split',split)\n",
    "    mentions = [ en['type'] for ex in data_splits[split] for en in ex['entities']]\n",
    "    etypes = set(mentions)\n",
    "    for et in etypes:\n",
    "        print('entity type %s has %d mentions'%(et, sum([1 for m in mentions if m == et])))\n"
   ]
  },
  {
   "cell_type": "code",
   "execution_count": 60,
   "metadata": {},
   "outputs": [
    {
     "data": {
      "text/plain": [
       "False"
      ]
     },
     "execution_count": 60,
     "metadata": {},
     "output_type": "execute_result"
    }
   ],
   "source": []
  },
  {
   "cell_type": "code",
   "execution_count": null,
   "metadata": {},
   "outputs": [],
   "source": []
  }
 ],
 "metadata": {
  "interpreter": {
   "hash": "07e16bd5aae80a5a2fd0a0d3b13861e825cae1facac225cc594d80ae9e64367b"
  },
  "kernelspec": {
   "display_name": "Python 3.9.7 ('nlu')",
   "language": "python",
   "name": "python3"
  },
  "language_info": {
   "codemirror_mode": {
    "name": "ipython",
    "version": 3
   },
   "file_extension": ".py",
   "mimetype": "text/x-python",
   "name": "python",
   "nbconvert_exporter": "python",
   "pygments_lexer": "ipython3",
   "version": "3.9.7"
  },
  "orig_nbformat": 4
 },
 "nbformat": 4,
 "nbformat_minor": 2
}
